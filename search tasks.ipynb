{
 "cells": [
  {
   "cell_type": "code",
   "execution_count": 4,
   "id": "78deef6a",
   "metadata": {},
   "outputs": [
    {
     "name": "stdout",
     "output_type": "stream",
     "text": [
      "Hello, my name is mariam\n"
     ]
    }
   ],
   "source": [
    "# A Sample class with init method\n",
    "class Person:\n",
    "\n",
    "# init method or constructor\n",
    " def __init__(self, name):\n",
    "    \n",
    "    self.name = name\n",
    "\n",
    "# Sample Method\n",
    " def say_hi(self):\n",
    "    \n",
    "    print('Hello, my name is', self.name)\n",
    "    \n",
    "p = Person('mariam')\n",
    "\n",
    "p.say_hi()"
   ]
  },
  {
   "cell_type": "code",
   "execution_count": 5,
   "id": "8f54a722",
   "metadata": {},
   "outputs": [
    {
     "name": "stdout",
     "output_type": "stream",
     "text": [
      "<__main__.String object at 0x000002F2AFFC9A30>\n"
     ]
    }
   ],
   "source": [
    "# A Sample class with string method\n",
    "\n",
    "class String:\n",
    "      \n",
    "    def __init__(self, str):\n",
    "        \n",
    "        self.str = str\n",
    "# Driver Code\n",
    "if __name__ == '__main__':\n",
    "      \n",
    "    # object creation\n",
    "    str1 = String('Hello')\n",
    "  \n",
    "    # print object location\n",
    "    print(str1)"
   ]
  },
  {
   "cell_type": "code",
   "execution_count": 7,
   "id": "2df4ae99",
   "metadata": {},
   "outputs": [
    {
     "data": {
      "text/plain": [
       "3"
      ]
     },
     "execution_count": 7,
     "metadata": {},
     "output_type": "execute_result"
    }
   ],
   "source": [
    "#using len method\n",
    "range = [2,5,6]\n",
    "\n",
    "len(range)"
   ]
  },
  {
   "cell_type": "code",
   "execution_count": 9,
   "id": "858b3d8e",
   "metadata": {},
   "outputs": [
    {
     "name": "stdout",
     "output_type": "stream",
     "text": [
      "Creating instance\n",
      "None\n"
     ]
    }
   ],
   "source": [
    "# using new method returning a string\n",
    "class A(object):\n",
    "    def __new__(cls):\n",
    "        print(\"Creating instance\")\n",
    "  \n",
    "    # It is not called\n",
    "    def __init__(self):\n",
    "        print(\"initialize  instance\")\n",
    "  \n",
    "print(A())"
   ]
  },
  {
   "cell_type": "code",
   "execution_count": 14,
   "id": "7de8b7b7",
   "metadata": {},
   "outputs": [
    {
     "name": "stdout",
     "output_type": "stream",
     "text": [
      "welcome to python\n"
     ]
    }
   ],
   "source": [
    "class string:\n",
    "    def __init__(self , str):                      # using init method returning a string\n",
    "        self.str = str\n",
    "    def __repr__(self):\n",
    "        return 'object: {}'.format(self.str)\n",
    "    def __add__(self , other):                    # using add method \n",
    "        return self.str + other\n",
    "    #driver code\n",
    "if __name__=='__main__':\n",
    "    str1 = string('welcome to')\n",
    "    print(str1 + ' python')"
   ]
  },
  {
   "cell_type": "code",
   "execution_count": 15,
   "id": "d05408d0",
   "metadata": {},
   "outputs": [
    {
     "name": "stdout",
     "output_type": "stream",
     "text": [
      "Hello\n",
      "Welcome\n",
      "to\n",
      "python\n"
     ]
    }
   ],
   "source": [
    "# *args\n",
    "def myFun(*argv):\n",
    "    for arg in argv:\n",
    "        print(arg)\n",
    "  \n",
    "  \n",
    "myFun('Hello', 'Welcome', 'to', 'python')"
   ]
  },
  {
   "cell_type": "code",
   "execution_count": 16,
   "id": "fae279e9",
   "metadata": {},
   "outputs": [
    {
     "name": "stdout",
     "output_type": "stream",
     "text": [
      "first == welcome\n",
      "mid == to\n",
      "last == python\n"
     ]
    }
   ],
   "source": [
    "# **kwargs\n",
    "def myFun(**kwargs):\n",
    "    for key, value in kwargs.items():\n",
    "        print(\"%s == %s\" % (key, value))\n",
    "        \n",
    "# Driver code\n",
    "myFun(first='welcome', mid='to', last='python')"
   ]
  },
  {
   "cell_type": "code",
   "execution_count": 17,
   "id": "306cac43",
   "metadata": {},
   "outputs": [
    {
     "name": "stdout",
     "output_type": "stream",
     "text": [
      "5\n",
      "3\n"
     ]
    },
    {
     "ename": "AttributeError",
     "evalue": "'Rectangle' object has no attribute 'length'",
     "output_type": "error",
     "traceback": [
      "\u001b[1;31m---------------------------------------------------------------------------\u001b[0m",
      "\u001b[1;31mAttributeError\u001b[0m                            Traceback (most recent call last)",
      "Input \u001b[1;32mIn [17]\u001b[0m, in \u001b[0;36m<cell line: 13>\u001b[1;34m()\u001b[0m\n\u001b[0;32m     11\u001b[0m rec \u001b[38;5;241m=\u001b[39m Rectangle()   \u001b[38;5;66;03m#object created for the class 'rectangle'\u001b[39;00m\n\u001b[0;32m     12\u001b[0m \u001b[38;5;66;03m#printing values of the private variable outside the class 'rectangle'\u001b[39;00m\n\u001b[1;32m---> 13\u001b[0m \u001b[38;5;28mprint\u001b[39m(\u001b[43mrec\u001b[49m\u001b[38;5;241;43m.\u001b[39;49m\u001b[43mlength\u001b[49m)\n\u001b[0;32m     14\u001b[0m \u001b[38;5;28mprint\u001b[39m(rec\u001b[38;5;241m.\u001b[39mbreadth)\n",
      "\u001b[1;31mAttributeError\u001b[0m: 'Rectangle' object has no attribute 'length'"
     ]
    }
   ],
   "source": [
    "#Encapsulation(private)\n",
    "class Rectangle:\n",
    "    __length = 0     #private variable\n",
    "    __breadth = 0    #private variable\n",
    "    def __init__(self):\n",
    "        #constructor\n",
    "        self.__length = 5\n",
    "        self.__breadth = 3\n",
    "        #printing values of the private variable\n",
    "        print(self.__length)\n",
    "        print(self.__breadth )\n",
    "rec = Rectangle()   #object created for the class 'rectangle'\n",
    "#printing values of the private variable outside the class 'rectangle'\n",
    "print(rec.length)\n",
    "print(rec.breadth)"
   ]
  },
  {
   "cell_type": "code",
   "execution_count": 19,
   "id": "aa76485e",
   "metadata": {},
   "outputs": [
    {
     "name": "stdout",
     "output_type": "stream",
     "text": [
      "10\n",
      "20\n"
     ]
    },
    {
     "ename": "AttributeError",
     "evalue": "'circle' object has no attribute 'length'",
     "output_type": "error",
     "traceback": [
      "\u001b[1;31m---------------------------------------------------------------------------\u001b[0m",
      "\u001b[1;31mAttributeError\u001b[0m                            Traceback (most recent call last)",
      "Input \u001b[1;32mIn [19]\u001b[0m, in \u001b[0;36m<cell line: 11>\u001b[1;34m()\u001b[0m\n\u001b[0;32m      9\u001b[0m         \u001b[38;5;28mprint\u001b[39m(\u001b[38;5;28mself\u001b[39m\u001b[38;5;241m.\u001b[39m_breadth)\n\u001b[0;32m     10\u001b[0m cr \u001b[38;5;241m=\u001b[39m circle()\n\u001b[1;32m---> 11\u001b[0m \u001b[38;5;28mprint\u001b[39m(\u001b[43mcr\u001b[49m\u001b[38;5;241;43m.\u001b[39;49m\u001b[43mlength\u001b[49m)\n\u001b[0;32m     12\u001b[0m \u001b[38;5;28mprint\u001b[39m(cr\u001b[38;5;241m.\u001b[39mbreadth)\n",
      "\u001b[1;31mAttributeError\u001b[0m: 'circle' object has no attribute 'length'"
     ]
    }
   ],
   "source": [
    "#Encapsulation(protected)\n",
    "class shape:   #protected variable\n",
    "    _length = 10\n",
    "    _breadth = 20\n",
    "class circle(shape):\n",
    "    def __init__(self):\n",
    "     #printing protected variable outside the class\n",
    "        print(self._length)\n",
    "        print(self._breadth)\n",
    "cr = circle()\n",
    "print(cr.length)\n",
    "print(cr.breadth)\n",
    "        "
   ]
  },
  {
   "cell_type": "code",
   "execution_count": 20,
   "id": "1e6e359e",
   "metadata": {},
   "outputs": [
    {
     "name": "stdout",
     "output_type": "stream",
     "text": [
      "True\n",
      "True\n"
     ]
    }
   ],
   "source": [
    "# class through subclassing\n",
    "import abc\n",
    " \n",
    "class parent:      \n",
    "    def python(self):\n",
    "        pass\n",
    " \n",
    "class child(parent):\n",
    "    def python(self):\n",
    "        print(\"child class\")\n",
    " \n",
    "# Driver code\n",
    "print( issubclass(child, parent))\n",
    "print( isinstance(child(), parent))"
   ]
  },
  {
   "cell_type": "code",
   "execution_count": null,
   "id": "1cd35dd5",
   "metadata": {},
   "outputs": [],
   "source": []
  }
 ],
 "metadata": {
  "kernelspec": {
   "display_name": "Python 3 (ipykernel)",
   "language": "python",
   "name": "python3"
  },
  "language_info": {
   "codemirror_mode": {
    "name": "ipython",
    "version": 3
   },
   "file_extension": ".py",
   "mimetype": "text/x-python",
   "name": "python",
   "nbconvert_exporter": "python",
   "pygments_lexer": "ipython3",
   "version": "3.9.12"
  }
 },
 "nbformat": 4,
 "nbformat_minor": 5
}
