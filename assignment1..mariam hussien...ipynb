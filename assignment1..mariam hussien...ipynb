{
 "cells": [
  {
   "cell_type": "code",
   "execution_count": 2,
   "id": "0a8cd66f",
   "metadata": {},
   "outputs": [
    {
     "name": "stdout",
     "output_type": "stream",
     "text": [
      "enter two numbers seperated by comma:5 ,6 \n"
     ]
    }
   ],
   "source": [
    "#assign each value to its respective variable\n",
    "\n",
    "x,y=[int(n) for n in input(\"enter two numbers seperated by comma:\").split(\",\")]"
   ]
  },
  {
   "cell_type": "code",
   "execution_count": 3,
   "id": "f3265c96",
   "metadata": {},
   "outputs": [
    {
     "data": {
      "text/plain": [
       "5"
      ]
     },
     "execution_count": 3,
     "metadata": {},
     "output_type": "execute_result"
    }
   ],
   "source": [
    "x"
   ]
  },
  {
   "cell_type": "code",
   "execution_count": 4,
   "id": "5dc364f8",
   "metadata": {},
   "outputs": [
    {
     "data": {
      "text/plain": [
       "6"
      ]
     },
     "execution_count": 4,
     "metadata": {},
     "output_type": "execute_result"
    }
   ],
   "source": [
    "y"
   ]
  },
  {
   "cell_type": "code",
   "execution_count": 5,
   "id": "0054aafc",
   "metadata": {},
   "outputs": [],
   "source": [
    "sum=int(x) + int(y)                          #Add two number"
   ]
  },
  {
   "cell_type": "code",
   "execution_count": 6,
   "id": "c9443f77",
   "metadata": {},
   "outputs": [
    {
     "name": "stdout",
     "output_type": "stream",
     "text": [
      "the sum is 11\n"
     ]
    }
   ],
   "source": [
    "print ('the sum is',sum)                     #Display the sum"
   ]
  },
  {
   "cell_type": "code",
   "execution_count": 9,
   "id": "1655404b",
   "metadata": {},
   "outputs": [
    {
     "name": "stdout",
     "output_type": "stream",
     "text": [
      "x=\n",
      " 5 y=\n",
      " 6\n"
     ]
    }
   ],
   "source": [
    "print(\"x=\\n\",x,\"y=\\n\",y)"
   ]
  },
  {
   "cell_type": "code",
   "execution_count": null,
   "id": "7bd01fed",
   "metadata": {},
   "outputs": [],
   "source": []
  }
 ],
 "metadata": {
  "kernelspec": {
   "display_name": "Python 3 (ipykernel)",
   "language": "python",
   "name": "python3"
  },
  "language_info": {
   "codemirror_mode": {
    "name": "ipython",
    "version": 3
   },
   "file_extension": ".py",
   "mimetype": "text/x-python",
   "name": "python",
   "nbconvert_exporter": "python",
   "pygments_lexer": "ipython3",
   "version": "3.9.12"
  }
 },
 "nbformat": 4,
 "nbformat_minor": 5
}
