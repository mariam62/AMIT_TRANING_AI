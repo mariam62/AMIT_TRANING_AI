{
 "cells": [
  {
   "cell_type": "markdown",
   "metadata": {
    "collapsed": true
   },
   "source": [
    "# QUIZ\n",
    "Let's test your knowledge!"
   ]
  },
  {
   "cell_type": "markdown",
   "metadata": {},
   "source": [
    "_____\n",
    "**Use <code>for</code>, .split(), and <code>if</code> to create a Statement that will print out words that start with 's':**"
   ]
  },
  {
   "cell_type": "code",
   "execution_count": 3,
   "metadata": {},
   "outputs": [],
   "source": [
    "st = 'Print only the words that start with s in this sentence'"
   ]
  },
  {
   "cell_type": "code",
   "execution_count": 6,
   "metadata": {},
   "outputs": [
    {
     "name": "stdout",
     "output_type": "stream",
     "text": [
      "start\n",
      "s\n",
      "sentence\n"
     ]
    }
   ],
   "source": [
    "#Code here\n",
    "\n",
    "#String to be splitted\n",
    "st = ('Print only the words that start with s in this sentence')\n",
    "\n",
    "for word in st.split():           #Split the string\n",
    "    \n",
    "    if word[0]== 's':            #if it starts with 's' print (word)\n",
    "        \n",
    "        print(word)"
   ]
  },
  {
   "cell_type": "markdown",
   "metadata": {},
   "source": [
    "______\n",
    "**Use range() to print all the even numbers from 0 to 10.**"
   ]
  },
  {
   "cell_type": "code",
   "execution_count": 9,
   "metadata": {},
   "outputs": [
    {
     "name": "stdout",
     "output_type": "stream",
     "text": [
      "[0, 2, 4, 6, 8, 10]\n"
     ]
    }
   ],
   "source": [
    "my_list = list(range(0,11,2))             # Assign a list with range named my_list\n",
    "print(my_list)"
   ]
  },
  {
   "cell_type": "markdown",
   "metadata": {},
   "source": [
    "___\n",
    "**Use a List Comprehension to create a list of all numbers between 1 and 50 that are divisible by 3.**"
   ]
  },
  {
   "cell_type": "code",
   "execution_count": 16,
   "metadata": {},
   "outputs": [
    {
     "name": "stdout",
     "output_type": "stream",
     "text": [
      "[3, 6, 9, 12, 15, 18, 21, 24, 27, 30, 33, 36, 39, 42, 45, 48]\n"
     ]
    }
   ],
   "source": [
    "#Code Here\n",
    "mylist = [x for x in range(1, 51) if x % 3 == 0]    #list comprehension\n",
    "print(mylist)"
   ]
  },
  {
   "cell_type": "markdown",
   "metadata": {},
   "source": [
    "_____\n",
    "**Go through the string below and if the length of a word is even print \"even!\"**"
   ]
  },
  {
   "cell_type": "code",
   "execution_count": null,
   "metadata": {},
   "outputs": [],
   "source": [
    "st = 'Print every word in this sentence that has an even number of letters'"
   ]
  },
  {
   "cell_type": "code",
   "execution_count": 35,
   "metadata": {},
   "outputs": [
    {
     "name": "stdout",
     "output_type": "stream",
     "text": [
      "This\n",
      "is\n",
      "python\n",
      "language\n"
     ]
    }
   ],
   "source": [
    "#Code in this cell\n",
    "# To print even length words in string\n",
    " \n",
    "#input string\n",
    "n=\"This is a python language\"\n",
    "#splitting the words in a given string\n",
    "s=n.split(\" \")\n",
    "for i in s:\n",
    "  #checking the length of words\n",
    "  if len(i)%2==0:\n",
    "    print(i)"
   ]
  },
  {
   "cell_type": "markdown",
   "metadata": {},
   "source": [
    "____\n",
    "**Write a program that prints the integers from 1 to 100. But for multiples of three print \"Fizz\" instead of the number, and for the multiples of five print \"Buzz\". For numbers which are multiples of both three and five print \"FizzBuzz\".**"
   ]
  },
  {
   "cell_type": "code",
   "execution_count": 25,
   "metadata": {},
   "outputs": [
    {
     "name": "stdout",
     "output_type": "stream",
     "text": [
      "fizzbuzz\n",
      "0\n",
      "1\n",
      "2\n",
      "fizz\n",
      "3\n",
      "4\n",
      "buzz\n",
      "5\n",
      "fizz\n",
      "6\n",
      "7\n",
      "8\n",
      "fizz\n",
      "9\n",
      "buzz\n",
      "10\n",
      "11\n",
      "fizz\n",
      "12\n",
      "13\n",
      "14\n",
      "fizzbuzz\n",
      "15\n",
      "16\n",
      "17\n",
      "fizz\n",
      "18\n",
      "19\n",
      "buzz\n",
      "20\n",
      "fizz\n",
      "21\n",
      "22\n",
      "23\n",
      "fizz\n",
      "24\n",
      "buzz\n",
      "25\n",
      "26\n",
      "fizz\n",
      "27\n",
      "28\n",
      "29\n",
      "fizzbuzz\n",
      "30\n",
      "31\n",
      "32\n",
      "fizz\n",
      "33\n",
      "34\n",
      "buzz\n",
      "35\n",
      "fizz\n",
      "36\n",
      "37\n",
      "38\n",
      "fizz\n",
      "39\n",
      "buzz\n",
      "40\n",
      "41\n",
      "fizz\n",
      "42\n",
      "43\n",
      "44\n",
      "fizzbuzz\n",
      "45\n",
      "46\n",
      "47\n",
      "fizz\n",
      "48\n",
      "49\n",
      "buzz\n",
      "50\n",
      "fizz\n",
      "51\n",
      "52\n",
      "53\n",
      "fizz\n",
      "54\n",
      "buzz\n",
      "55\n",
      "56\n",
      "fizz\n",
      "57\n",
      "58\n",
      "59\n",
      "fizzbuzz\n",
      "60\n",
      "61\n",
      "62\n",
      "fizz\n",
      "63\n",
      "64\n",
      "buzz\n",
      "65\n",
      "fizz\n",
      "66\n",
      "67\n",
      "68\n",
      "fizz\n",
      "69\n",
      "buzz\n",
      "70\n",
      "71\n",
      "fizz\n",
      "72\n",
      "73\n",
      "74\n",
      "fizzbuzz\n",
      "75\n",
      "76\n",
      "77\n",
      "fizz\n",
      "78\n",
      "79\n",
      "buzz\n",
      "80\n",
      "fizz\n",
      "81\n",
      "82\n",
      "83\n",
      "fizz\n",
      "84\n",
      "buzz\n",
      "85\n",
      "86\n",
      "fizz\n",
      "87\n",
      "88\n",
      "89\n",
      "fizzbuzz\n",
      "90\n",
      "91\n",
      "92\n",
      "fizz\n",
      "93\n",
      "94\n",
      "buzz\n",
      "95\n",
      "fizz\n",
      "96\n",
      "97\n",
      "98\n",
      "fizz\n",
      "99\n",
      "buzz\n",
      "100\n"
     ]
    }
   ],
   "source": [
    "#Code in this cell\n",
    "for fizzbuzz in range (101):\n",
    "    if fizzbuzz % 3 ==0 and fizzbuzz % 5 ==0:        #numbers which are multiples of both three and five \n",
    "            print(\"fizzbuzz\")\n",
    "    elif fizzbuzz % 3 ==0:                           #numbers which are multiples of three\n",
    "            print(\"fizz\")\n",
    "    elif fizzbuzz % 5 ==0:                           #numbers which are multiples of five\n",
    "            print(\"buzz\")\n",
    "    print(fizzbuzz)\n",
    "        "
   ]
  },
  {
   "cell_type": "markdown",
   "metadata": {},
   "source": [
    "____\n",
    "**Use List Comprehension to create a list of the first letters of every word in the string below:**"
   ]
  },
  {
   "cell_type": "code",
   "execution_count": null,
   "metadata": {},
   "outputs": [],
   "source": [
    "st = 'Create a list of the first letters of every word in this string'"
   ]
  },
  {
   "cell_type": "code",
   "execution_count": 34,
   "metadata": {},
   "outputs": [
    {
     "name": "stdout",
     "output_type": "stream",
     "text": [
      "Calotfloewits\n"
     ]
    }
   ],
   "source": [
    "#Code in this cell\n",
    "#String to be splitted\n",
    "st = 'Create a list of the first letters of every word in this string'\n",
    "#split the string\n",
    "st_split = st.split()   \n",
    "#print first letters of every word in the string\n",
    "print(''.join(word[0] for word in st_split))"
   ]
  },
  {
   "cell_type": "markdown",
   "metadata": {},
   "source": [
    "### Great Job!"
   ]
  }
 ],
 "metadata": {
  "kernelspec": {
   "display_name": "Python 3 (ipykernel)",
   "language": "python",
   "name": "python3"
  },
  "language_info": {
   "codemirror_mode": {
    "name": "ipython",
    "version": 3
   },
   "file_extension": ".py",
   "mimetype": "text/x-python",
   "name": "python",
   "nbconvert_exporter": "python",
   "pygments_lexer": "ipython3",
   "version": "3.9.12"
  }
 },
 "nbformat": 4,
 "nbformat_minor": 1
}
