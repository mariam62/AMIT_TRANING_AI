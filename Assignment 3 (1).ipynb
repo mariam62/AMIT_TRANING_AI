{
 "cells": [
  {
   "cell_type": "markdown",
   "metadata": {},
   "source": [
    "# Assignment 3"
   ]
  },
  {
   "cell_type": "markdown",
   "metadata": {},
   "source": [
    "### Write a function to count the number 4 in a given list."
   ]
  },
  {
   "cell_type": "code",
   "execution_count": 1,
   "metadata": {},
   "outputs": [
    {
     "name": "stdout",
     "output_type": "stream",
     "text": [
      "The count of num: 4 is  2\n"
     ]
    }
   ],
   "source": [
    "# Take a list of numbers\n",
    "list1 = [1,2,3,4,5,4]\n",
    "num_count = list1.count(4)            #count a list1\n",
    "print('The count of num: 4 is ', num_count)"
   ]
  },
  {
   "cell_type": "markdown",
   "metadata": {},
   "source": [
    "### write a  function to check whether a number is divisible by another number."
   ]
  },
  {
   "cell_type": "code",
   "execution_count": 2,
   "metadata": {},
   "outputs": [
    {
     "name": "stdout",
     "output_type": "stream",
     "text": [
      "True\n",
      "False\n"
     ]
    }
   ],
   "source": [
    "def divisible(x, y):\n",
    "       \n",
    "    if x % y == 0:                #check divisible \n",
    "        return True               #numbers divisible\n",
    "    else:\n",
    "        return False              #numbers not divisible\n",
    "\n",
    "print(divisible(30, 10))\n",
    "print(divisible (5, 2))"
   ]
  },
  {
   "cell_type": "markdown",
   "metadata": {},
   "source": [
    "### write a function to find the maximum and minimum numbers from a sequence of numbers."
   ]
  },
  {
   "cell_type": "code",
   "execution_count": 2,
   "metadata": {},
   "outputs": [
    {
     "name": "stdout",
     "output_type": "stream",
     "text": [
      "Maximum of 4,70,50,20,100 is :100\n",
      "Minimum of 4,70,50,20,100 is : 4\n"
     ]
    }
   ],
   "source": [
    "#printing the max()\n",
    "print(\"Maximum of 4,70,50,20,100 is :\" , end=\"\")\n",
    "\n",
    "print(max(4,70,50,20,100))\n",
    "\n",
    "#printing the min()\n",
    "print(\"Minimum of 4,70,50,20,100 is : \", end=\"\")\n",
    "\n",
    "print(min(4,70,50,20,100))"
   ]
  },
  {
   "cell_type": "markdown",
   "metadata": {},
   "source": [
    "### Write a Python function that takes two lists and returns True if they have at least one common member."
   ]
  },
  {
   "cell_type": "code",
   "execution_count": 8,
   "metadata": {},
   "outputs": [
    {
     "name": "stdout",
     "output_type": "stream",
     "text": [
      "True\n"
     ]
    }
   ],
   "source": [
    "# take a list of members\n",
    "list1 = ['Ahmed', 'mohamed', 'ibrahim']\n",
    "list2 = ['mohamed','mostafa']\n",
    "\n",
    "# if two lists have at least one common member\n",
    "def common_member(list1, list2):\n",
    "    result = False\n",
    "  \n",
    "    \n",
    "    for x in list1:         # traverse in the 1st list\n",
    "  \n",
    "    \n",
    "      for y in list2:       # traverse in the 2nd list\n",
    "    \n",
    "            \n",
    "        if x == y:          # if one common    \n",
    "            result = True\n",
    "            return result \n",
    "                  \n",
    "    return result\n",
    "print(common_member(list1, list2))"
   ]
  },
  {
   "cell_type": "markdown",
   "metadata": {},
   "source": [
    "### Write a Python function to calculate the factorial of a number (a non-negative integer). The function accepts the number from the user"
   ]
  },
  {
   "cell_type": "code",
   "execution_count": 18,
   "metadata": {},
   "outputs": [
    {
     "name": "stdout",
     "output_type": "stream",
     "text": [
      "Enter positive number 'p': 8\n",
      "Factorial is:  40320\n"
     ]
    }
   ],
   "source": [
    "def factorial(n):                               #find the factorial of an integer\n",
    "    fact=1 \n",
    "    for i in range(1,n+1): \n",
    "        fact=fact*i \n",
    "    return fact \n",
    "  \n",
    "n=int(input(\"Enter positive number 'p': \"))     # take input from the user\n",
    "f=factorial(n) \n",
    "\n",
    "print('Factorial is: ',f)"
   ]
  },
  {
   "cell_type": "markdown",
   "metadata": {},
   "source": [
    "### Write a Python function to check whether a number is in a given range.\n",
    "\n",
    "### The range is from 3 to 11\n"
   ]
  },
  {
   "cell_type": "code",
   "execution_count": 15,
   "metadata": {},
   "outputs": [
    {
     "name": "stdout",
     "output_type": "stream",
     "text": [
      "5 is in a given range.\n"
     ]
    }
   ],
   "source": [
    "def check_range(num):\n",
    "    if num in range(3,11) :               #condition to check a number is in a range\n",
    "        print(num, 'is in a given range.')\n",
    "    else :                                #number not in a range\n",
    "        print(num, 'is not in a given range.')\n",
    "check_range(5)"
   ]
  },
  {
   "cell_type": "markdown",
   "metadata": {},
   "source": [
    "### Write a  program to create the multiplication table (from 1 to 10) of a number."
   ]
  },
  {
   "cell_type": "code",
   "execution_count": 16,
   "metadata": {},
   "outputs": [
    {
     "name": "stdout",
     "output_type": "stream",
     "text": [
      "Enter the number to create the multiplication table: 5\n",
      "The Multiplication Table of:  5\n",
      "5 x 1 = 5\n",
      "5 x 2 = 10\n",
      "5 x 3 = 15\n",
      "5 x 4 = 20\n",
      "5 x 5 = 25\n",
      "5 x 6 = 30\n",
      "5 x 7 = 35\n",
      "5 x 8 = 40\n",
      "5 x 9 = 45\n",
      "5 x 10 = 50\n"
     ]
    }
   ],
   "source": [
    "#multiplication table (from 1 to 10)\n",
    "number = int(input (\"Enter the number to create the multiplication table: \"))   \n",
    "\n",
    "print (\"The Multiplication Table of: \", number)    \n",
    "\n",
    "# We use \"for loop\" to repeat the multiplication 10 times\n",
    "for count in range(1, 11):      \n",
    "    \n",
    "   print (number, 'x', count, '=', number * count)    "
   ]
  },
  {
   "cell_type": "markdown",
   "metadata": {},
   "source": [
    "#### LESSER OF TWO EVENS: Write a function that returns the lesser of two given numbers *if* both numbers are even, but returns the greater if one or both numbers are odd\n",
    "    lesser_of_two_evens(2,4) --> 2\n",
    "    lesser_of_two_evens(2,5) --> 5"
   ]
  },
  {
   "cell_type": "code",
   "execution_count": 19,
   "metadata": {},
   "outputs": [],
   "source": [
    "def lesser_of_two_evens(x,y):\n",
    "    if x%2 == 0 and y%2 == 0:          #condition of both numbers are even\n",
    "        return min(x,y)                #return lesser\n",
    "    else:                              #both numbers are odd\n",
    "        return max(x,y)                #return greater"
   ]
  },
  {
   "cell_type": "code",
   "execution_count": 20,
   "metadata": {},
   "outputs": [
    {
     "data": {
      "text/plain": [
       "2"
      ]
     },
     "execution_count": 20,
     "metadata": {},
     "output_type": "execute_result"
    }
   ],
   "source": [
    "# Check\n",
    "lesser_of_two_evens(2,4)"
   ]
  },
  {
   "cell_type": "code",
   "execution_count": 21,
   "metadata": {},
   "outputs": [
    {
     "data": {
      "text/plain": [
       "5"
      ]
     },
     "execution_count": 21,
     "metadata": {},
     "output_type": "execute_result"
    }
   ],
   "source": [
    "# Check\n",
    "lesser_of_two_evens(2,5)"
   ]
  },
  {
   "cell_type": "code",
   "execution_count": null,
   "metadata": {},
   "outputs": [],
   "source": []
  }
 ],
 "metadata": {
  "kernelspec": {
   "display_name": "Python 3 (ipykernel)",
   "language": "python",
   "name": "python3"
  },
  "language_info": {
   "codemirror_mode": {
    "name": "ipython",
    "version": 3
   },
   "file_extension": ".py",
   "mimetype": "text/x-python",
   "name": "python",
   "nbconvert_exporter": "python",
   "pygments_lexer": "ipython3",
   "version": "3.9.12"
  }
 },
 "nbformat": 4,
 "nbformat_minor": 2
}
